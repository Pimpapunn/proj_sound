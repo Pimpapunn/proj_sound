{
 "cells": [
  {
   "cell_type": "code",
   "execution_count": 1,
   "metadata": {},
   "outputs": [
    {
     "name": "stdout",
     "output_type": "stream",
     "text": [
      "idw_monday_0809.tif : 51.56281615142822\n",
      "idw_monday_0910.tif : 51.56281615142822\n",
      "idw_monday_1011.tif : 51.56281615142822\n",
      "idw_monday_1112.tif : 51.56281615142822\n",
      "idw_monday_1213.tif : 51.56281615142822\n",
      "idw_monday_1314.tif : 51.56281615142822\n",
      "idw_monday_1415.tif : 51.56281615142822\n",
      "idw_monday_1516.tif : 51.56281615142822\n",
      "idw_monday_1617.tif : 51.56281615142822\n",
      "idw_tuesday_0809.tif : 51.56281615142822\n",
      "idw_tuesday_0910.tif : 51.56281615142822\n",
      "idw_tuesday_1011.tif : 51.56281615142822\n",
      "idw_tuesday_1112.tif : 51.56281615142822\n",
      "idw_tuesday_1213.tif : 51.56281615142822\n",
      "idw_tuesday_1314.tif : 51.56281615142822\n",
      "idw_tuesday_1415.tif : 51.56281615142822\n",
      "idw_tuesday_1516.tif : 51.56281615142822\n",
      "idw_tuesday_1617.tif : 51.56281615142822\n"
     ]
    }
   ],
   "source": [
    "import rasterio\n",
    "import numpy as np\n",
    "\n",
    "import os\n",
    "# directory = \"/app/output\"\n",
    "directory = os.path.join(\"app\", \"output\")\n",
    "\n",
    "\n",
    "for f in os.listdir(directory):\n",
    "    if f.endswith('.tif'):\n",
    "        file = os.path.join(directory, f)\n",
    "        # print(file)\n",
    "        with rasterio.open(file) as src:\n",
    "            raster_data = src.read(1)\n",
    "            nodata_value = src.nodata\n",
    "\n",
    "            if nodata_value is not None:\n",
    "                raster_data = np.ma.masked_equal(raster_data, nodata_value)\n",
    "            mean_value = np.mean(raster_data)\n",
    "\n",
    "        print(f, \":\", mean_value)\n"
   ]
  }
 ],
 "metadata": {
  "kernelspec": {
   "display_name": "Python 3",
   "language": "python",
   "name": "python3"
  },
  "language_info": {
   "codemirror_mode": {
    "name": "ipython",
    "version": 3
   },
   "file_extension": ".py",
   "mimetype": "text/x-python",
   "name": "python",
   "nbconvert_exporter": "python",
   "pygments_lexer": "ipython3",
   "version": "3.10.12"
  }
 },
 "nbformat": 4,
 "nbformat_minor": 2
}
