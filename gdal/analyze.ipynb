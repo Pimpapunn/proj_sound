{
 "cells": [
  {
   "cell_type": "code",
   "execution_count": 15,
   "metadata": {},
   "outputs": [
    {
     "name": "stdout",
     "output_type": "stream",
     "text": [
      "idw_friday_1011.tif : 51.09601166305542\n",
      "idw_monday_0809.tif : 52.021491592025754\n",
      "idw_monday_0910.tif : 54.94216195297241\n",
      "idw_monday_1011.tif : 53.71650103034973\n",
      "idw_monday_1112.tif : 51.99713817596435\n",
      "idw_monday_1516.tif : 52.718181064987185\n",
      "idw_saturday_1011.tif : 51.606778702545164\n",
      "idw_saturday_1112.tif : 51.685746480560304\n",
      "idw_saturday_1516.tif : 51.342751821136474\n",
      "idw_sunday_1011.tif : 52.219895051193234\n",
      "idw_sunday_1213.tif : 51.49376775588989\n",
      "idw_sunday_1516.tif : 51.064691288757324\n",
      "idw_thursday_1011.tif : 52.728809246063236\n",
      "idw_tuesday_0809.tif : 51.35856590499878\n",
      "idw_tuesday_0910.tif : 57.52769325408936\n",
      "idw_tuesday_1011.tif : 57.67238412055969\n",
      "idw_tuesday_1314.tif : 54.075066160583496\n",
      "idw_tuesday_1516.tif : 55.1355772190094\n",
      "idw_wednesday_0809.tif : 51.56281615142822\n",
      "idw_wednesday_0910.tif : 51.73551969718933\n",
      "idw_wednesday_1011.tif : 51.55542618598938\n",
      "idw_wednesday_1112.tif : 51.65666096458435\n"
     ]
    }
   ],
   "source": [
    "import rasterio\n",
    "import numpy as np\n",
    "\n",
    "import os\n",
    "# directory = \"/app/output\"\n",
    "directory = os.path.join(\"app\", \"output\")\n",
    "\n",
    "\n",
    "for f in os.listdir(directory):\n",
    "    if f.endswith('.tif'):\n",
    "        file = os.path.join(directory, f)\n",
    "        # print(file)\n",
    "        with rasterio.open(file) as src:\n",
    "            raster_data = src.read(1)\n",
    "            nodata_value = src.nodata\n",
    "\n",
    "            if nodata_value is not None:\n",
    "                raster_data = np.ma.masked_equal(raster_data, nodata_value)\n",
    "            mean_value = np.mean(raster_data)\n",
    "\n",
    "        print(f, \":\", mean_value)\n"
   ]
  }
 ],
 "metadata": {
  "kernelspec": {
   "display_name": "Python 3",
   "language": "python",
   "name": "python3"
  },
  "language_info": {
   "codemirror_mode": {
    "name": "ipython",
    "version": 3
   },
   "file_extension": ".py",
   "mimetype": "text/x-python",
   "name": "python",
   "nbconvert_exporter": "python",
   "pygments_lexer": "ipython3",
   "version": "2.7.undefined"
  }
 },
 "nbformat": 4,
 "nbformat_minor": 2
}
